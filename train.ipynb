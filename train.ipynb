{
  "cells": [
    {
      "cell_type": "code",
      "execution_count": null,
      "metadata": {
        "colab": {
          "base_uri": "https://localhost:8080/"
        },
        "id": "72O4rhDEZrIq",
        "outputId": "f6081b4b-bd38-4891-f0c5-378f0df34056"
      },
      "outputs": [
        {
          "name": "stdout",
          "output_type": "stream",
          "text": [
            "Cloning into 'DeepVCP-Pointcloud-Registration'...\n",
            "remote: Enumerating objects: 1333, done.\u001b[K\n",
            "remote: Counting objects: 100% (36/36), done.\u001b[K\n",
            "remote: Compressing objects: 100% (29/29), done.\u001b[K\n",
            "remote: Total 1333 (delta 11), reused 19 (delta 7), pack-reused 1297\u001b[K\n",
            "Receiving objects: 100% (1333/1333), 138.82 MiB | 15.24 MiB/s, done.\n",
            "Resolving deltas: 100% (344/344), done.\n"
          ]
        }
      ],
      "source": [
        "! git clone https://github.com/niladridutt/DeepVCP-Pointcloud-Registration.git"
      ]
    },
    {
      "cell_type": "code",
      "execution_count": null,
      "metadata": {
        "colab": {
          "base_uri": "https://localhost:8080/"
        },
        "id": "OUGR4V4kDY15",
        "outputId": "f98057c9-a400-4d78-abac-3db1c02f9869"
      },
      "outputs": [
        {
          "name": "stdout",
          "output_type": "stream",
          "text": [
            "--2023-04-15 10:12:35--  https://shapenet.cs.stanford.edu/media/modelnet40_normal_resampled.zip\n",
            "Resolving shapenet.cs.stanford.edu (shapenet.cs.stanford.edu)... 171.67.77.19\n",
            "Connecting to shapenet.cs.stanford.edu (shapenet.cs.stanford.edu)|171.67.77.19|:443... connected.\n",
            "WARNING: cannot verify shapenet.cs.stanford.edu's certificate, issued by ‘CN=InCommon RSA Server CA,OU=InCommon,O=Internet2,L=Ann Arbor,ST=MI,C=US’:\n",
            "  Issued certificate has expired.\n",
            "HTTP request sent, awaiting response... 200 OK\n",
            "Length: 1705117335 (1.6G) [application/zip]\n",
            "Saving to: ‘modelnet40_normal_resampled.zip’\n",
            "\n",
            "modelnet40_normal_r 100%[===================>]   1.59G  58.1MB/s    in 29s     \n",
            "\n",
            "2023-04-15 10:13:04 (56.1 MB/s) - ‘modelnet40_normal_resampled.zip’ saved [1705117335/1705117335]\n",
            "\n"
          ]
        }
      ],
      "source": [
        "!wget https://shapenet.cs.stanford.edu/media/modelnet40_normal_resampled.zip --no-check-certificate"
      ]
    },
    {
      "cell_type": "code",
      "execution_count": null,
      "metadata": {
        "id": "tcNwoHRlmtTL"
      },
      "outputs": [],
      "source": [
        "! unzip -q modelnet40_normal_resampled.zip"
      ]
    },
    {
      "cell_type": "code",
      "execution_count": null,
      "metadata": {
        "id": "VpM8oiQsaMz2"
      },
      "outputs": [],
      "source": [
        "!pip install --upgrade https://github.com/unlimblue/KNN_CUDA/releases/download/0.2/KNN_CUDA-0.2-py3-none-any.whl -q"
      ]
    },
    {
      "cell_type": "code",
      "execution_count": null,
      "metadata": {
        "colab": {
          "base_uri": "https://localhost:8080/"
        },
        "id": "nWFanNlZbNz2",
        "outputId": "76a9918b-62d3-4d6f-b5cf-13539c2509d2"
      },
      "outputs": [
        {
          "name": "stdout",
          "output_type": "stream",
          "text": [
            "\u001b[?25l     \u001b[90m━━━━━━━━━━━━━━━━━━━━━━━━━━━━━━━━━━━━━━━━\u001b[0m \u001b[32m0.0/146.0 kB\u001b[0m \u001b[31m?\u001b[0m eta \u001b[36m-:--:--\u001b[0m\r\u001b[2K     \u001b[90m━━━━━━━━━━━━━━━━━━━━━━━━━━━━━━━━━━━━━━━\u001b[0m \u001b[32m146.0/146.0 kB\u001b[0m \u001b[31m4.7 MB/s\u001b[0m eta \u001b[36m0:00:00\u001b[0m\n",
            "\u001b[?25h"
          ]
        }
      ],
      "source": [
        "! pip install Ninja -q"
      ]
    },
    {
      "cell_type": "code",
      "execution_count": 3,
      "metadata": {
        "colab": {
          "base_uri": "https://localhost:8080/"
        },
        "id": "MnFkroz4c8Ht",
        "outputId": "e3cecb93-6de6-4345-d933-556e00683786"
      },
      "outputs": [],
      "source": [
        "! pip install trimesh -q"
      ]
    },
    {
      "cell_type": "code",
      "execution_count": 1,
      "metadata": {
        "colab": {
          "base_uri": "https://localhost:8080/"
        },
        "id": "lWF9CPBba-kv",
        "outputId": "4c7ed8e4-530a-44e8-e6df-ece38b3019f5"
      },
      "outputs": [],
      "source": [
        "import os\n",
        "import numpy as np\n",
        "import torch\n",
        "from torch import nn\n",
        "from torch.optim import Adam\n",
        "from torch.utils.data import DataLoader\n",
        "from torch.optim.lr_scheduler import ReduceLROnPlateau\n",
        "from scipy.spatial.transform import Rotation as R\n",
        "import time\n",
        "import pickle\n",
        "import argparse\n",
        "from utils import *\n",
        "\n",
        "from deepVCP import DeepVCP\n",
        "from ModelNet40Dataset import ModelNet40Dataset\n",
        "from KITTIDataset import KITTIDataset\n",
        "from CustomDataset import CustomDataset\n",
        "from deepVCP_loss import deepVCP_loss\n",
        "import matplotlib\n",
        "matplotlib.use('Agg')\n",
        "from matplotlib import pyplot as plt"
      ]
    },
    {
      "cell_type": "code",
      "execution_count": 2,
      "metadata": {
        "id": "6eg9nCTqdPTA"
      },
      "outputs": [],
      "source": [
        "dataset = 'modelnet'\n",
        "retrain_path = 'store'\n",
        "model_path = 'final_model.pt'\n",
        "full_dataset = True"
      ]
    },
    {
      "cell_type": "code",
      "execution_count": 7,
      "metadata": {
        "colab": {
          "base_uri": "https://localhost:8080/"
        },
        "id": "T2R0MObvcqHG",
        "outputId": "e6ab55fc-13e2-45ff-fd7e-455511bce501"
      },
      "outputs": [
        {
          "name": "stdout",
          "output_type": "stream",
          "text": [
            "Params: epochs: 5, batch: 1, lr: 0.001, alpha: 0.5\n",
            "\n",
            "device: cuda\n"
          ]
        }
      ],
      "source": [
        "num_epochs = 5\n",
        "batch_size = 1\n",
        "lr = 0.001\n",
        "# loss balancing factor \n",
        "alpha = 0.5\n",
        "\n",
        "print(f\"Params: epochs: {num_epochs}, batch: {batch_size}, lr: {lr}, alpha: {alpha}\\n\")\n",
        "\n",
        "# check if cuda is available\n",
        "device = 'cuda' if torch.cuda.is_available() else 'cpu'\n",
        "print(f\"device: {device}\")\n"
      ]
    },
    {
      "cell_type": "code",
      "execution_count": 4,
      "metadata": {
        "colab": {
          "base_uri": "https://localhost:8080/"
        },
        "id": "JTia5bfVcxG_",
        "outputId": "70299cfc-fe26-463d-cdf2-b86eacc5dbf4"
      },
      "outputs": [
        {
          "name": "stdout",
          "output_type": "stream",
          "text": [
            "# Total clouds 785\n"
          ]
        }
      ],
      "source": [
        "root = 'modelnet40_normal_resampled/'\n",
        "shape_names = np.loadtxt(root+\"modelnet10_shape_names.txt\", dtype=\"str\")\n",
        "train_data= ModelNet40Dataset(root=root, augment=True, full_dataset=full_dataset, split='train')"
      ]
    },
    {
      "cell_type": "code",
      "execution_count": 5,
      "metadata": {
        "colab": {
          "base_uri": "https://localhost:8080/"
        },
        "id": "bWiQwvqcdA7p",
        "outputId": "86a82273-537d-4db2-b8d9-e98ed20385d6"
      },
      "outputs": [
        {
          "name": "stdout",
          "output_type": "stream",
          "text": [
            "# Total clouds 197\n"
          ]
        }
      ],
      "source": [
        "test_data = ModelNet40Dataset(root=root, augment=True, full_dataset=full_dataset,  split='test')"
      ]
    },
    {
      "cell_type": "code",
      "execution_count": 8,
      "metadata": {
        "colab": {
          "base_uri": "https://localhost:8080/"
        },
        "id": "yQpQfDt_c27b",
        "outputId": "e162b74f-da03-4d21-acda-547aad9b3bdf"
      },
      "outputs": [
        {
          "name": "stdout",
          "output_type": "stream",
          "text": [
            "Train dataset size:  785\n",
            "Test dataset size:  197\n"
          ]
        },
        {
          "data": {
            "text/plain": [
              "DeepVCP(\n",
              "  (FE1): feat_extraction_layer(\n",
              "    (sa1): PointNetSetAbstraction(\n",
              "      (mlp_convs): ModuleList(\n",
              "        (0): Conv2d(6, 16, kernel_size=(1, 1), stride=(1, 1))\n",
              "        (1): Conv2d(16, 16, kernel_size=(1, 1), stride=(1, 1))\n",
              "        (2): Conv2d(16, 32, kernel_size=(1, 1), stride=(1, 1))\n",
              "      )\n",
              "      (mlp_bns): ModuleList(\n",
              "        (0-1): 2 x BatchNorm2d(16, eps=1e-05, momentum=0.1, affine=True, track_running_stats=True)\n",
              "        (2): BatchNorm2d(32, eps=1e-05, momentum=0.1, affine=True, track_running_stats=True)\n",
              "      )\n",
              "    )\n",
              "    (sa2): PointNetSetAbstraction(\n",
              "      (mlp_convs): ModuleList(\n",
              "        (0): Conv2d(6, 32, kernel_size=(1, 1), stride=(1, 1))\n",
              "        (1): Conv2d(32, 64, kernel_size=(1, 1), stride=(1, 1))\n",
              "      )\n",
              "      (mlp_bns): ModuleList(\n",
              "        (0): BatchNorm2d(32, eps=1e-05, momentum=0.1, affine=True, track_running_stats=True)\n",
              "        (1): BatchNorm2d(64, eps=1e-05, momentum=0.1, affine=True, track_running_stats=True)\n",
              "      )\n",
              "    )\n",
              "    (sa3): PointNetSetAbstraction(\n",
              "      (mlp_convs): ModuleList(\n",
              "        (0): Conv2d(6, 64, kernel_size=(1, 1), stride=(1, 1))\n",
              "        (1): Conv2d(64, 32, kernel_size=(1, 1), stride=(1, 1))\n",
              "      )\n",
              "      (mlp_bns): ModuleList(\n",
              "        (0): BatchNorm2d(64, eps=1e-05, momentum=0.1, affine=True, track_running_stats=True)\n",
              "        (1): BatchNorm2d(32, eps=1e-05, momentum=0.1, affine=True, track_running_stats=True)\n",
              "      )\n",
              "    )\n",
              "  )\n",
              "  (WL): weighting_layer(\n",
              "    (fc1): Sequential(\n",
              "      (0): Linear(in_features=32, out_features=16, bias=True)\n",
              "      (1): ReLU()\n",
              "    )\n",
              "    (fc2): Sequential(\n",
              "      (0): Linear(in_features=16, out_features=8, bias=True)\n",
              "      (1): ReLU()\n",
              "    )\n",
              "    (fc3): Sequential(\n",
              "      (0): Linear(in_features=8, out_features=1, bias=True)\n",
              "      (1): Softplus(beta=1, threshold=20)\n",
              "    )\n",
              "  )\n",
              "  (DFE): feat_embedding_layer(\n",
              "    (fc1): Linear(in_features=35, out_features=32, bias=True)\n",
              "    (fc2): Linear(in_features=32, out_features=32, bias=True)\n",
              "    (fc3): Linear(in_features=32, out_features=32, bias=True)\n",
              "    (max_pool): MaxPool1d(kernel_size=32, stride=32, padding=0, dilation=1, ceil_mode=False)\n",
              "  )\n",
              "  (cpg): cpg(\n",
              "    (conv1): Conv3d(32, 16, kernel_size=(3, 3, 3), stride=(1, 1, 1), padding=(1, 1, 1))\n",
              "    (conv2): Conv3d(16, 4, kernel_size=(3, 3, 3), stride=(1, 1, 1), padding=(1, 1, 1))\n",
              "    (conv3): Conv3d(4, 1, kernel_size=(3, 3, 3), stride=(1, 1, 1), padding=(1, 1, 1))\n",
              "    (softmax): Softmax(dim=-1)\n",
              "  )\n",
              ")"
            ]
          },
          "execution_count": 8,
          "metadata": {},
          "output_type": "execute_result"
        }
      ],
      "source": [
        "train_loader = DataLoader(dataset=train_data, batch_size=batch_size, shuffle=False)\n",
        "test_loader = DataLoader(dataset=test_data, batch_size=batch_size, shuffle=False)\n",
        "\n",
        "\n",
        "num_train = len(train_data)\n",
        "num_test = len(test_data)\n",
        "print('Train dataset size: ', num_train)\n",
        "print('Test dataset size: ', num_test)\n",
        "\n",
        "use_normal = dataset == \"modelnet\"\n",
        "\n",
        "# Initialize the model\n",
        "model = DeepVCP(use_normal=use_normal)\n",
        "if torch.cuda.device_count() > 1:\n",
        "    print(\"Let's use\", torch.cuda.device_count(), \"GPUs!\")\n",
        "    # dim = 0 [30, xxx] -> [10, ...], [10, ...], [10, ...] on 3 GPUs\n",
        "    model = nn.DataParallel(model)\n",
        "\n",
        "model.to(device)"
      ]
    },
    {
      "cell_type": "code",
      "execution_count": 9,
      "metadata": {
        "colab": {
          "base_uri": "https://localhost:8080/"
        },
        "id": "DYuFCk8MdSHp",
        "outputId": "fdf7aedf-b807-4479-96fd-91a92a2e3e7b"
      },
      "outputs": [
        {
          "name": "stdout",
          "output_type": "stream",
          "text": [
            "epoch #0\n",
            "Processing file: bed_0001.txt\n",
            "feature extraction time:  10.495105981826782\n",
            "src_keypts_idx_unsqueezed:  torch.Size([1, 6, 64])\n",
            "src_keypts:  torch.Size([1, 64, 6])\n",
            "Grouping keypoints time:  0.02200007438659668\n",
            "B:  1\n",
            "K_topk:  64\n",
            "nsample:  32\n",
            "num_feat:  32\n",
            "get_cat_feat_src time:  0.0\n"
          ]
        },
        {
          "name": "stderr",
          "output_type": "stream",
          "text": [
            "c:\\Users\\niladutt\\.conda\\envs\\nsd\\lib\\site-packages\\torch\\functional.py:504: UserWarning: torch.meshgrid: in an upcoming release, it will be required to pass the indexing argument. (Triggered internally at C:\\cb\\pytorch_1000000000000\\work\\aten\\src\\ATen\\native\\TensorShape.cpp:3484.)\n",
            "  return _VF.meshgrid(tensors, **kwargs)  # type: ignore[attr-defined]\n"
          ]
        },
        {
          "name": "stdout",
          "output_type": "stream",
          "text": [
            "tgt_pts_xyz:  torch.Size([1, 10000, 3])\n",
            "ref_pts:  torch.Size([1, 10000, 3])\n",
            "dist_normalize:  torch.Size([1, 32, 13824])\n",
            "feat_weight_map:  torch.Size([1, 32, 32, 13824])\n",
            "idx_1_mask:  tensor([[0]])\n",
            "idx_1_mask_flatten:  tensor([0])\n",
            "idx_2_mask:  tensor([  88, 9469, 6891,  ..., 9859, 4812, 8174], device='cuda:0')\n",
            "get_cat_feat_tgt time:  0.11301946640014648\n",
            "Loss: 0.331563321438198\n",
            "rotation error:  tensor(2.2912, dtype=torch.float64)\n",
            "translation error:  tensor(0.8204, device='cuda:0', dtype=torch.float64, grad_fn=<MeanBackward0>)\n",
            "--- 20.604880809783936 seconds ---\n",
            "Processing file: bed_0002.txt\n"
          ]
        },
        {
          "ename": "KeyboardInterrupt",
          "evalue": "",
          "output_type": "error",
          "traceback": [
            "\u001b[1;31m---------------------------------------------------------------------------\u001b[0m",
            "\u001b[1;31mKeyboardInterrupt\u001b[0m                         Traceback (most recent call last)",
            "Cell \u001b[1;32mIn[9], line 19\u001b[0m\n\u001b[0;32m     17\u001b[0m corruption \u001b[38;5;241m=\u001b[39m torch\u001b[38;5;241m.\u001b[39mFloatTensor(batch_size, \u001b[38;5;241m3\u001b[39m, \u001b[38;5;241m3\u001b[39m)\u001b[38;5;241m.\u001b[39muniform_(\u001b[38;5;241m0.9\u001b[39m, \u001b[38;5;241m1.1\u001b[39m)\u001b[38;5;241m.\u001b[39mcuda()\n\u001b[0;32m     18\u001b[0m R_prior \u001b[38;5;241m=\u001b[39m R_prior\u001b[38;5;241m*\u001b[39mcorruption\n\u001b[1;32m---> 19\u001b[0m src_keypts, target_vcp \u001b[38;5;241m=\u001b[39m \u001b[43mmodel\u001b[49m\u001b[43m(\u001b[49m\u001b[43msrc\u001b[49m\u001b[43m,\u001b[49m\u001b[43m \u001b[49m\u001b[43mtarget\u001b[49m\u001b[43m,\u001b[49m\u001b[43m \u001b[49m\u001b[43mR_prior\u001b[49m\u001b[43m,\u001b[49m\u001b[43m \u001b[49m\u001b[43mt_init\u001b[49m\u001b[43m)\u001b[49m\n\u001b[0;32m     20\u001b[0m \u001b[38;5;66;03m# print('src_keypts shape', src_keypts.shape)\u001b[39;00m\n\u001b[0;32m     21\u001b[0m \u001b[38;5;66;03m# print('target_vcp shape', target_vcp.shape)\u001b[39;00m\n\u001b[0;32m     22\u001b[0m \u001b[38;5;66;03m# zero gradient \u001b[39;00m\n\u001b[0;32m     23\u001b[0m optim\u001b[38;5;241m.\u001b[39mzero_grad()\n",
            "File \u001b[1;32mc:\\Users\\niladutt\\.conda\\envs\\nsd\\lib\\site-packages\\torch\\nn\\modules\\module.py:1501\u001b[0m, in \u001b[0;36mModule._call_impl\u001b[1;34m(self, *args, **kwargs)\u001b[0m\n\u001b[0;32m   1496\u001b[0m \u001b[39m# If we don't have any hooks, we want to skip the rest of the logic in\u001b[39;00m\n\u001b[0;32m   1497\u001b[0m \u001b[39m# this function, and just call forward.\u001b[39;00m\n\u001b[0;32m   1498\u001b[0m \u001b[39mif\u001b[39;00m \u001b[39mnot\u001b[39;00m (\u001b[39mself\u001b[39m\u001b[39m.\u001b[39m_backward_hooks \u001b[39mor\u001b[39;00m \u001b[39mself\u001b[39m\u001b[39m.\u001b[39m_backward_pre_hooks \u001b[39mor\u001b[39;00m \u001b[39mself\u001b[39m\u001b[39m.\u001b[39m_forward_hooks \u001b[39mor\u001b[39;00m \u001b[39mself\u001b[39m\u001b[39m.\u001b[39m_forward_pre_hooks\n\u001b[0;32m   1499\u001b[0m         \u001b[39mor\u001b[39;00m _global_backward_pre_hooks \u001b[39mor\u001b[39;00m _global_backward_hooks\n\u001b[0;32m   1500\u001b[0m         \u001b[39mor\u001b[39;00m _global_forward_hooks \u001b[39mor\u001b[39;00m _global_forward_pre_hooks):\n\u001b[1;32m-> 1501\u001b[0m     \u001b[39mreturn\u001b[39;00m forward_call(\u001b[39m*\u001b[39margs, \u001b[39m*\u001b[39m\u001b[39m*\u001b[39mkwargs)\n\u001b[0;32m   1502\u001b[0m \u001b[39m# Do not call functions when jit is used\u001b[39;00m\n\u001b[0;32m   1503\u001b[0m full_backward_hooks, non_full_backward_hooks \u001b[39m=\u001b[39m [], []\n",
            "File \u001b[1;32mh:\\DeepVCP-Pointcloud-Registration\\deepVCP.py:30\u001b[0m, in \u001b[0;36mDeepVCP.forward\u001b[1;34m(self, src_pts, tgt_pts, R_init, t_init)\u001b[0m\n\u001b[0;32m     28\u001b[0m \u001b[39m# deep features extracted from FE layer: B x N x 32\u001b[39;00m\n\u001b[0;32m     29\u001b[0m fe_start_time \u001b[39m=\u001b[39m time\u001b[39m.\u001b[39mtime()\n\u001b[1;32m---> 30\u001b[0m src_deep_feat_xyz, src_deep_feat_pts \u001b[39m=\u001b[39m \u001b[39mself\u001b[39;49m\u001b[39m.\u001b[39;49mFE1(src_pts)\n\u001b[0;32m     31\u001b[0m \u001b[39mprint\u001b[39m(\u001b[39m\"\u001b[39m\u001b[39mfeature extraction time: \u001b[39m\u001b[39m\"\u001b[39m, time\u001b[39m.\u001b[39mtime() \u001b[39m-\u001b[39m fe_start_time)\n\u001b[0;32m     33\u001b[0m \u001b[39m# obtain the top k indices for src point clouds\u001b[39;00m\n",
            "File \u001b[1;32mc:\\Users\\niladutt\\.conda\\envs\\nsd\\lib\\site-packages\\torch\\nn\\modules\\module.py:1501\u001b[0m, in \u001b[0;36mModule._call_impl\u001b[1;34m(self, *args, **kwargs)\u001b[0m\n\u001b[0;32m   1496\u001b[0m \u001b[39m# If we don't have any hooks, we want to skip the rest of the logic in\u001b[39;00m\n\u001b[0;32m   1497\u001b[0m \u001b[39m# this function, and just call forward.\u001b[39;00m\n\u001b[0;32m   1498\u001b[0m \u001b[39mif\u001b[39;00m \u001b[39mnot\u001b[39;00m (\u001b[39mself\u001b[39m\u001b[39m.\u001b[39m_backward_hooks \u001b[39mor\u001b[39;00m \u001b[39mself\u001b[39m\u001b[39m.\u001b[39m_backward_pre_hooks \u001b[39mor\u001b[39;00m \u001b[39mself\u001b[39m\u001b[39m.\u001b[39m_forward_hooks \u001b[39mor\u001b[39;00m \u001b[39mself\u001b[39m\u001b[39m.\u001b[39m_forward_pre_hooks\n\u001b[0;32m   1499\u001b[0m         \u001b[39mor\u001b[39;00m _global_backward_pre_hooks \u001b[39mor\u001b[39;00m _global_backward_hooks\n\u001b[0;32m   1500\u001b[0m         \u001b[39mor\u001b[39;00m _global_forward_hooks \u001b[39mor\u001b[39;00m _global_forward_pre_hooks):\n\u001b[1;32m-> 1501\u001b[0m     \u001b[39mreturn\u001b[39;00m forward_call(\u001b[39m*\u001b[39margs, \u001b[39m*\u001b[39m\u001b[39m*\u001b[39mkwargs)\n\u001b[0;32m   1502\u001b[0m \u001b[39m# Do not call functions when jit is used\u001b[39;00m\n\u001b[0;32m   1503\u001b[0m full_backward_hooks, non_full_backward_hooks \u001b[39m=\u001b[39m [], []\n",
            "File \u001b[1;32mh:\\DeepVCP-Pointcloud-Registration\\deep_feat_extraction.py:27\u001b[0m, in \u001b[0;36mfeat_extraction_layer.forward\u001b[1;34m(self, pts)\u001b[0m\n\u001b[0;32m     25\u001b[0m     xyz \u001b[39m=\u001b[39m pts\n\u001b[0;32m     26\u001b[0m output_xyz, output_pts \u001b[39m=\u001b[39m \u001b[39mself\u001b[39m\u001b[39m.\u001b[39msa1(xyz, normal)\n\u001b[1;32m---> 27\u001b[0m output_xyz, output_pts \u001b[39m=\u001b[39m \u001b[39mself\u001b[39;49m\u001b[39m.\u001b[39;49msa2(output_xyz, normal)\n\u001b[0;32m     28\u001b[0m output_xyz, output_pts \u001b[39m=\u001b[39m \u001b[39mself\u001b[39m\u001b[39m.\u001b[39msa3(output_xyz, normal)\n\u001b[0;32m     29\u001b[0m output_xyz \u001b[39m=\u001b[39m output_xyz\u001b[39m.\u001b[39mpermute(\u001b[39m0\u001b[39m, \u001b[39m2\u001b[39m, \u001b[39m1\u001b[39m)\n",
            "File \u001b[1;32mc:\\Users\\niladutt\\.conda\\envs\\nsd\\lib\\site-packages\\torch\\nn\\modules\\module.py:1501\u001b[0m, in \u001b[0;36mModule._call_impl\u001b[1;34m(self, *args, **kwargs)\u001b[0m\n\u001b[0;32m   1496\u001b[0m \u001b[39m# If we don't have any hooks, we want to skip the rest of the logic in\u001b[39;00m\n\u001b[0;32m   1497\u001b[0m \u001b[39m# this function, and just call forward.\u001b[39;00m\n\u001b[0;32m   1498\u001b[0m \u001b[39mif\u001b[39;00m \u001b[39mnot\u001b[39;00m (\u001b[39mself\u001b[39m\u001b[39m.\u001b[39m_backward_hooks \u001b[39mor\u001b[39;00m \u001b[39mself\u001b[39m\u001b[39m.\u001b[39m_backward_pre_hooks \u001b[39mor\u001b[39;00m \u001b[39mself\u001b[39m\u001b[39m.\u001b[39m_forward_hooks \u001b[39mor\u001b[39;00m \u001b[39mself\u001b[39m\u001b[39m.\u001b[39m_forward_pre_hooks\n\u001b[0;32m   1499\u001b[0m         \u001b[39mor\u001b[39;00m _global_backward_pre_hooks \u001b[39mor\u001b[39;00m _global_backward_hooks\n\u001b[0;32m   1500\u001b[0m         \u001b[39mor\u001b[39;00m _global_forward_hooks \u001b[39mor\u001b[39;00m _global_forward_pre_hooks):\n\u001b[1;32m-> 1501\u001b[0m     \u001b[39mreturn\u001b[39;00m forward_call(\u001b[39m*\u001b[39margs, \u001b[39m*\u001b[39m\u001b[39m*\u001b[39mkwargs)\n\u001b[0;32m   1502\u001b[0m \u001b[39m# Do not call functions when jit is used\u001b[39;00m\n\u001b[0;32m   1503\u001b[0m full_backward_hooks, non_full_backward_hooks \u001b[39m=\u001b[39m [], []\n",
            "File \u001b[1;32mh:\\DeepVCP-Pointcloud-Registration\\pointnet2_utils.py:192\u001b[0m, in \u001b[0;36mPointNetSetAbstraction.forward\u001b[1;34m(self, xyz, points)\u001b[0m\n\u001b[0;32m    190\u001b[0m     new_xyz, new_points \u001b[39m=\u001b[39m sample_and_group_all(xyz, points)\n\u001b[0;32m    191\u001b[0m \u001b[39melse\u001b[39;00m:\n\u001b[1;32m--> 192\u001b[0m     new_xyz, new_points \u001b[39m=\u001b[39m sample_and_group(\u001b[39mself\u001b[39;49m\u001b[39m.\u001b[39;49mnpoint, \u001b[39mself\u001b[39;49m\u001b[39m.\u001b[39;49mradius, \u001b[39mself\u001b[39;49m\u001b[39m.\u001b[39;49mnsample, xyz, points)\n\u001b[0;32m    193\u001b[0m \u001b[39m# new_xyz: sampled points position data, [B, npoint, C]\u001b[39;00m\n\u001b[0;32m    194\u001b[0m \u001b[39m# new_points: sampled points data, [B, npoint, nsample, C+D]\u001b[39;00m\n\u001b[0;32m    195\u001b[0m new_points \u001b[39m=\u001b[39m new_points\u001b[39m.\u001b[39mpermute(\u001b[39m0\u001b[39m, \u001b[39m3\u001b[39m, \u001b[39m2\u001b[39m, \u001b[39m1\u001b[39m) \u001b[39m# [B, C+D, nsample,npoint]\u001b[39;00m\n",
            "File \u001b[1;32mh:\\DeepVCP-Pointcloud-Registration\\pointnet2_utils.py:124\u001b[0m, in \u001b[0;36msample_and_group\u001b[1;34m(npoint, radius, nsample, xyz, points, returnidx)\u001b[0m\n\u001b[0;32m    122\u001b[0m B, N, C \u001b[39m=\u001b[39m xyz\u001b[39m.\u001b[39mshape\n\u001b[0;32m    123\u001b[0m S \u001b[39m=\u001b[39m npoint\n\u001b[1;32m--> 124\u001b[0m fps_idx \u001b[39m=\u001b[39m farthest_point_sample(xyz, npoint) \u001b[39m# [B, npoint, C]\u001b[39;00m\n\u001b[0;32m    125\u001b[0m new_xyz \u001b[39m=\u001b[39m index_points(xyz, fps_idx)\n\u001b[0;32m    126\u001b[0m idx \u001b[39m=\u001b[39m query_ball_point(radius, nsample, xyz, new_xyz)\n",
            "File \u001b[1;32mh:\\DeepVCP-Pointcloud-Registration\\pointnet2_utils.py:82\u001b[0m, in \u001b[0;36mfarthest_point_sample\u001b[1;34m(xyz, npoint)\u001b[0m\n\u001b[0;32m     80\u001b[0m     dist \u001b[39m=\u001b[39m torch\u001b[39m.\u001b[39msum((xyz \u001b[39m-\u001b[39m centroid) \u001b[39m*\u001b[39m\u001b[39m*\u001b[39m \u001b[39m2\u001b[39m, \u001b[39m-\u001b[39m\u001b[39m1\u001b[39m)\n\u001b[0;32m     81\u001b[0m     mask \u001b[39m=\u001b[39m dist \u001b[39m<\u001b[39m distance\n\u001b[1;32m---> 82\u001b[0m     distance[mask] \u001b[39m=\u001b[39m dist[mask]\u001b[39m.\u001b[39;49mfloat()\n\u001b[0;32m     83\u001b[0m     farthest \u001b[39m=\u001b[39m torch\u001b[39m.\u001b[39mmax(distance, \u001b[39m-\u001b[39m\u001b[39m1\u001b[39m)[\u001b[39m1\u001b[39m]\n\u001b[0;32m     84\u001b[0m \u001b[39mreturn\u001b[39;00m centroids\n",
            "\u001b[1;31mKeyboardInterrupt\u001b[0m: "
          ]
        }
      ],
      "source": [
        "optim = Adam(model.parameters(), lr=lr)\n",
        "\n",
        "# begin train \n",
        "model.train()\n",
        "loss_epoch_avg = []\n",
        "train_loss = []\n",
        "for epoch in range(num_epochs):\n",
        "    print(f\"epoch #{epoch}\")\n",
        "    loss_epoch = []\n",
        "    running_loss = 0.0\n",
        "\n",
        "    for n_batch, (src, target, R_gt, t_gt, ) in enumerate(train_loader):\n",
        "        start_time = time.time()\n",
        "        # mini batch\n",
        "        src, target, R_gt, t_gt = src.to(device), target.to(device), R_gt.to(device), t_gt.to(device)\n",
        "        t_init = torch.randn((1, 3))\n",
        "        R_prior = R_gt.clone()\n",
        "        corruption = torch.FloatTensor(batch_size, 3, 3).uniform_(0.9, 1.1).cuda()\n",
        "        R_prior = R_prior*corruption\n",
        "        src_keypts, target_vcp = model(src, target, R_prior, t_init)\n",
        "        # print('src_keypts shape', src_keypts.shape)\n",
        "        # print('target_vcp shape', target_vcp.shape)\n",
        "        # zero gradient \n",
        "        optim.zero_grad()\n",
        "        loss, R_pred, t_pred = deepVCP_loss(src_keypts, target_vcp, R_gt, t_gt, alpha=0.5)\n",
        "\n",
        "        # error metric for rigid body transformation\n",
        "        r_pred = R.from_matrix(R_pred.squeeze(0).cpu().detach().numpy())\n",
        "        r_pred_arr = torch.tensor(r_pred.as_euler('xyz', degrees=True)).reshape(1, 3)\n",
        "        r_gt = R.from_matrix(R_gt.squeeze(0).cpu().detach().numpy())\n",
        "        r_gt_arr = torch.tensor(r_gt.as_euler('xyz', degrees=True)).reshape(1, 3)\n",
        "        pdist = nn.PairwiseDistance(p = 2)\n",
        "        t_pred = t_pred.squeeze(-1)\n",
        "        t_gt = t_gt.squeeze(-1)\n",
        "\n",
        "        print(\"rotation error: \", pdist(r_pred_arr, r_gt_arr).mean())\n",
        "        print(\"translation error: \", pdist(t_pred, t_gt).mean())\n",
        "\n",
        "        # backward pass\n",
        "        loss.backward()\n",
        "        # update parameters \n",
        "        optim.step()\n",
        "\n",
        "        running_loss += loss.item()\n",
        "        loss_epoch += [loss.item()]\n",
        "        print(\"--- %s seconds ---\" % (time.time() - start_time))\n",
        "        if (n_batch + 1) % 5 == 0:\n",
        "            print(\"Epoch: [{}/{}], Batch: {}, Loss: {}\".format(\n",
        "                epoch, num_epochs, n_batch, loss.item()))\n",
        "            running_loss = 0.0\n",
        "\n",
        "    torch.save(model.state_dict(), \"epoch_\" + str(epoch) + \"_model.pt\")\n",
        "    loss_epoch_avg += [sum(loss_epoch) / len(loss_epoch)]\n",
        "    train_loss.append(sum(loss_epoch))\n",
        "    print(\"loss epoch\", loss_epoch)\n",
        "    with open(\"training_loss_\" + str(epoch) + \".txt\", \"wb\") as fp:   #Pickling\n",
        "        pickle.dump(loss_epoch, fp)\n"
      ]
    },
    {
      "cell_type": "code",
      "execution_count": null,
      "metadata": {
        "id": "2SL28L_2da7f"
      },
      "outputs": [],
      "source": [
        "# save\n",
        "print(\"Finished Training\")\n",
        "torch.save(model.state_dict(), model_path)"
      ]
    }
  ],
  "metadata": {
    "accelerator": "GPU",
    "colab": {
      "provenance": []
    },
    "gpuClass": "standard",
    "kernelspec": {
      "display_name": "Python 3.10.10 ('nsd')",
      "language": "python",
      "name": "python3"
    },
    "language_info": {
      "codemirror_mode": {
        "name": "ipython",
        "version": 3
      },
      "file_extension": ".py",
      "mimetype": "text/x-python",
      "name": "python",
      "nbconvert_exporter": "python",
      "pygments_lexer": "ipython3",
      "version": "3.10.10"
    },
    "vscode": {
      "interpreter": {
        "hash": "28ddfe019228c1c2f609477641aa95b52d4df5f6bd621eab70bc33a459c81c5e"
      }
    }
  },
  "nbformat": 4,
  "nbformat_minor": 0
}
