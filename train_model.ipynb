{
 "cells": [
  {
   "cell_type": "code",
   "execution_count": 1,
   "metadata": {},
   "outputs": [],
   "source": [
    "import os\n",
    "import numpy as np\n",
    "import torch\n",
    "from torch import nn\n",
    "from torch.optim import Adam\n",
    "from torch.utils.data import DataLoader\n",
    "from torch.optim.lr_scheduler import ReduceLROnPlateau\n",
    "from scipy.spatial.transform import Rotation as R\n",
    "import time\n",
    "import pickle\n",
    "import argparse \n",
    "from utils import *\n",
    "\n",
    "from deepVCP import DeepVCP\n",
    "from ModelNet40Dataset import ModelNet40Dataset\n",
    "from KITTIDataset import KITTIDataset\n",
    "from deepVCP_loss import deepVCP_loss\n",
    "\n",
    "import matplotlib\n",
    "matplotlib.use('Agg')\n",
    "from matplotlib import pyplot as plt\n",
    "  "
   ]
  },
  {
   "cell_type": "code",
   "execution_count": 2,
   "metadata": {},
   "outputs": [],
   "source": [
    "dataset = \"modelnet\"\n",
    "retrain_path = False\n",
    "model_path = \"final_model.pt\"\n",
    "full_dataset = True "
   ]
  },
  {
   "cell_type": "code",
   "execution_count": 3,
   "metadata": {},
   "outputs": [
    {
     "name": "stdout",
     "output_type": "stream",
     "text": [
      "Params: epochs: 10, batch: 2, lr: 0.001, alpha: 0.5\n",
      "\n",
      "device: cuda\n",
      "# Total clouds 10\n",
      "# Total clouds 10\n",
      "Train dataset size:  10\n",
      "Test dataset size:  10\n"
     ]
    }
   ],
   "source": [
    "num_epochs = 10\n",
    "batch_size = 2\n",
    "lr = 0.001\n",
    "# loss balancing factor \n",
    "alpha = 0.5\n",
    "\n",
    "print(f\"Params: epochs: {num_epochs}, batch: {batch_size}, lr: {lr}, alpha: {alpha}\\n\")\n",
    "\n",
    "# check if cuda is available\n",
    "device = 'cuda' if torch.cuda.is_available() else 'cpu'\n",
    "print(f\"device: {device}\")\n",
    "\n",
    "# dataset \n",
    "\n",
    "root = 'modelnet40_normal_resampled/'\n",
    "shape_names = np.loadtxt(root+\"modelnet10_shape_names.txt\", dtype=\"str\")\n",
    "train_data= ModelNet40Dataset(root=root, augment=True, full_dataset=full_dataset, split='train')\n",
    "test_data = ModelNet40Dataset(root=root, augment=True, full_dataset=full_dataset,  split='test')\n",
    "\n",
    "\n",
    "train_loader = DataLoader(dataset=train_data, batch_size=batch_size, shuffle=False)\n",
    "test_loader = DataLoader(dataset=test_data, batch_size=batch_size, shuffle=False)\n",
    "\n",
    "\n",
    "num_train = len(train_data)\n",
    "num_test = len(test_data)\n",
    "print('Train dataset size: ', num_train)\n",
    "print('Test dataset size: ', num_test)\n"
   ]
  },
  {
   "cell_type": "code",
   "execution_count": 4,
   "metadata": {},
   "outputs": [
    {
     "name": "stdout",
     "output_type": "stream",
     "text": [
      "No retrain\n"
     ]
    }
   ],
   "source": [
    "use_normal = False if dataset == \"kitti\" else True\n",
    "\n",
    "# Initialize the model\n",
    "model = DeepVCP(use_normal=use_normal)\n",
    "if torch.cuda.device_count() > 1:\n",
    "    print(\"Let's use\", torch.cuda.device_count(), \"GPUs!\")\n",
    "    # dim = 0 [30, xxx] -> [10, ...], [10, ...], [10, ...] on 3 GPUs\n",
    "    model = nn.DataParallel(model)\n",
    "\n",
    "model.to(device)\n",
    "\n",
    "# Retrain\n",
    "if retrain_path:\n",
    "    print(\"Retrain on \", retrain_path)\n",
    "    model.load_state_dict(torch.load(retrain_path))\n",
    "else:\n",
    "    print(\"No retrain\")\n",
    "\n",
    "# Define the optimizer\n",
    "optim = Adam(model.parameters(), lr=lr)\n",
    "\n",
    "# begin train "
   ]
  },
  {
   "cell_type": "code",
   "execution_count": 5,
   "metadata": {},
   "outputs": [
    {
     "name": "stdout",
     "output_type": "stream",
     "text": [
      "epoch #0\n",
      "Processing file: bathtub_0001\n",
      "Processing file: bathtub_0002\n",
      "feature extraction time:  8.620491981506348\n",
      "src k id torch.Size([2, 64])\n",
      "src_keypts_idx_unsqueezed:  torch.Size([2, 6, 64])\n",
      "src_keypts:  torch.Size([2, 64, 6])\n",
      "Grouping keypoints time:  0.028000354766845703\n",
      "sample torch.Size([2, 64, 3])\n",
      "B:  2\n",
      "K_topk:  64\n",
      "nsample:  32\n",
      "num_feat:  32\n",
      "get_cat_feat_src time:  0.0\n",
      "src_keypts_T torch.Size([2, 3, 64])\n",
      "R_init_rep  torch.Size([2, 3, 3])\n",
      "tgt_pts_xyz:  torch.Size([2, 10000, 3])\n",
      "ref_pts:  torch.Size([2, 10000, 3])\n"
     ]
    },
    {
     "name": "stderr",
     "output_type": "stream",
     "text": [
      "c:\\Users\\niladutt\\.conda\\envs\\nsd\\lib\\site-packages\\torch\\functional.py:504: UserWarning: torch.meshgrid: in an upcoming release, it will be required to pass the indexing argument. (Triggered internally at C:\\cb\\pytorch_1000000000000\\work\\aten\\src\\ATen\\native\\TensorShape.cpp:3484.)\n",
      "  return _VF.meshgrid(tensors, **kwargs)  # type: ignore[attr-defined]\n"
     ]
    },
    {
     "name": "stdout",
     "output_type": "stream",
     "text": [
      "dist  torch.Size([2, 32, 13824])\n",
      "cpk  torch.Size([2, 64, 216, 32, 3])\n",
      "dist_normalize:  torch.Size([2, 32, 13824])\n",
      "feat_weight_map:  torch.Size([2, 32, 32, 13824])\n",
      "idx_1_mask:  torch.Size([2, 2])\n",
      "idx_1_mask_flatten:  torch.Size([4])\n",
      "idx_2_mask:  torch.Size([442368])\n",
      "entering\n",
      "tgt_deep_feat_pts torch.Size([2, 10000, 32])\n",
      "idx_1_mask torch.Size([4])\n",
      "idx_2_mask torch.Size([442368])\n"
     ]
    },
    {
     "ename": "IndexError",
     "evalue": "shape mismatch: indexing tensors could not be broadcast together with shapes [4], [442368]",
     "output_type": "error",
     "traceback": [
      "\u001b[1;31m---------------------------------------------------------------------------\u001b[0m",
      "\u001b[1;31mIndexError\u001b[0m                                Traceback (most recent call last)",
      "Cell \u001b[1;32mIn[5], line 17\u001b[0m\n\u001b[0;32m     15\u001b[0m corruption \u001b[38;5;241m=\u001b[39m torch\u001b[38;5;241m.\u001b[39mFloatTensor(batch_size, \u001b[38;5;241m3\u001b[39m, \u001b[38;5;241m3\u001b[39m)\u001b[38;5;241m.\u001b[39muniform_(\u001b[38;5;241m0.9\u001b[39m, \u001b[38;5;241m1.1\u001b[39m)\u001b[38;5;241m.\u001b[39mcuda()\n\u001b[0;32m     16\u001b[0m R_prior \u001b[38;5;241m=\u001b[39m R_prior\u001b[38;5;241m*\u001b[39mcorruption\n\u001b[1;32m---> 17\u001b[0m src_keypts, target_vcp \u001b[38;5;241m=\u001b[39m \u001b[43mmodel\u001b[49m\u001b[43m(\u001b[49m\u001b[43msrc\u001b[49m\u001b[43m,\u001b[49m\u001b[43m \u001b[49m\u001b[43mtarget\u001b[49m\u001b[43m,\u001b[49m\u001b[43m \u001b[49m\u001b[43mR_gt\u001b[49m\u001b[43m,\u001b[49m\u001b[43m \u001b[49m\u001b[43mt_init\u001b[49m\u001b[43m)\u001b[49m\n\u001b[0;32m     18\u001b[0m \u001b[38;5;66;03m# print('src_keypts shape', src_keypts.shape)\u001b[39;00m\n\u001b[0;32m     19\u001b[0m \u001b[38;5;66;03m# print('target_vcp shape', target_vcp.shape)\u001b[39;00m\n\u001b[0;32m     20\u001b[0m \u001b[38;5;66;03m# zero gradient \u001b[39;00m\n\u001b[0;32m     21\u001b[0m optim\u001b[38;5;241m.\u001b[39mzero_grad()\n",
      "File \u001b[1;32mc:\\Users\\niladutt\\.conda\\envs\\nsd\\lib\\site-packages\\torch\\nn\\modules\\module.py:1501\u001b[0m, in \u001b[0;36mModule._call_impl\u001b[1;34m(self, *args, **kwargs)\u001b[0m\n\u001b[0;32m   1496\u001b[0m \u001b[39m# If we don't have any hooks, we want to skip the rest of the logic in\u001b[39;00m\n\u001b[0;32m   1497\u001b[0m \u001b[39m# this function, and just call forward.\u001b[39;00m\n\u001b[0;32m   1498\u001b[0m \u001b[39mif\u001b[39;00m \u001b[39mnot\u001b[39;00m (\u001b[39mself\u001b[39m\u001b[39m.\u001b[39m_backward_hooks \u001b[39mor\u001b[39;00m \u001b[39mself\u001b[39m\u001b[39m.\u001b[39m_backward_pre_hooks \u001b[39mor\u001b[39;00m \u001b[39mself\u001b[39m\u001b[39m.\u001b[39m_forward_hooks \u001b[39mor\u001b[39;00m \u001b[39mself\u001b[39m\u001b[39m.\u001b[39m_forward_pre_hooks\n\u001b[0;32m   1499\u001b[0m         \u001b[39mor\u001b[39;00m _global_backward_pre_hooks \u001b[39mor\u001b[39;00m _global_backward_hooks\n\u001b[0;32m   1500\u001b[0m         \u001b[39mor\u001b[39;00m _global_forward_hooks \u001b[39mor\u001b[39;00m _global_forward_pre_hooks):\n\u001b[1;32m-> 1501\u001b[0m     \u001b[39mreturn\u001b[39;00m forward_call(\u001b[39m*\u001b[39margs, \u001b[39m*\u001b[39m\u001b[39m*\u001b[39mkwargs)\n\u001b[0;32m   1502\u001b[0m \u001b[39m# Do not call functions when jit is used\u001b[39;00m\n\u001b[0;32m   1503\u001b[0m full_backward_hooks, non_full_backward_hooks \u001b[39m=\u001b[39m [], []\n",
      "File \u001b[1;32mh:\\DeepVCP-Pointcloud-Registration\\deepVCP.py:105\u001b[0m, in \u001b[0;36mDeepVCP.forward\u001b[1;34m(self, src_pts, tgt_pts, R_init, t_init)\u001b[0m\n\u001b[0;32m    103\u001b[0m get_cat_feat_tgt_start_time \u001b[39m=\u001b[39m time\u001b[39m.\u001b[39mtime()\n\u001b[0;32m    104\u001b[0m tgt_gcf \u001b[39m=\u001b[39m Get_Cat_Feat_Tgt()\n\u001b[1;32m--> 105\u001b[0m tgt_keyfeats_cat \u001b[39m=\u001b[39m tgt_gcf(candidate_pts, src_keypts, tgt_pts_xyz, tgt_deep_feat_pts)\n\u001b[0;32m    106\u001b[0m \u001b[39mprint\u001b[39m(\u001b[39m\"\u001b[39m\u001b[39mget_cat_feat_tgt time: \u001b[39m\u001b[39m\"\u001b[39m, time\u001b[39m.\u001b[39mtime() \u001b[39m-\u001b[39m get_cat_feat_tgt_start_time)\n\u001b[0;32m    108\u001b[0m \u001b[39m# deep feature embedding\u001b[39;00m\n",
      "File \u001b[1;32mc:\\Users\\niladutt\\.conda\\envs\\nsd\\lib\\site-packages\\torch\\nn\\modules\\module.py:1501\u001b[0m, in \u001b[0;36mModule._call_impl\u001b[1;34m(self, *args, **kwargs)\u001b[0m\n\u001b[0;32m   1496\u001b[0m \u001b[39m# If we don't have any hooks, we want to skip the rest of the logic in\u001b[39;00m\n\u001b[0;32m   1497\u001b[0m \u001b[39m# this function, and just call forward.\u001b[39;00m\n\u001b[0;32m   1498\u001b[0m \u001b[39mif\u001b[39;00m \u001b[39mnot\u001b[39;00m (\u001b[39mself\u001b[39m\u001b[39m.\u001b[39m_backward_hooks \u001b[39mor\u001b[39;00m \u001b[39mself\u001b[39m\u001b[39m.\u001b[39m_backward_pre_hooks \u001b[39mor\u001b[39;00m \u001b[39mself\u001b[39m\u001b[39m.\u001b[39m_forward_hooks \u001b[39mor\u001b[39;00m \u001b[39mself\u001b[39m\u001b[39m.\u001b[39m_forward_pre_hooks\n\u001b[0;32m   1499\u001b[0m         \u001b[39mor\u001b[39;00m _global_backward_pre_hooks \u001b[39mor\u001b[39;00m _global_backward_hooks\n\u001b[0;32m   1500\u001b[0m         \u001b[39mor\u001b[39;00m _global_forward_hooks \u001b[39mor\u001b[39;00m _global_forward_pre_hooks):\n\u001b[1;32m-> 1501\u001b[0m     \u001b[39mreturn\u001b[39;00m forward_call(\u001b[39m*\u001b[39margs, \u001b[39m*\u001b[39m\u001b[39m*\u001b[39mkwargs)\n\u001b[0;32m   1502\u001b[0m \u001b[39m# Do not call functions when jit is used\u001b[39;00m\n\u001b[0;32m   1503\u001b[0m full_backward_hooks, non_full_backward_hooks \u001b[39m=\u001b[39m [], []\n",
      "File \u001b[1;32mh:\\DeepVCP-Pointcloud-Registration\\get_cat_feat_tgt.py:101\u001b[0m, in \u001b[0;36mGet_Cat_Feat_Tgt.forward\u001b[1;34m(self, candidate_pts, src_keypts, tgt_pts_xyz, tgt_deep_feat_pts)\u001b[0m\n\u001b[0;32m     99\u001b[0m \u001b[39mprint\u001b[39m(\u001b[39m'\u001b[39m\u001b[39midx_1_mask\u001b[39m\u001b[39m'\u001b[39m, idx_1_mask\u001b[39m.\u001b[39mshape)\n\u001b[0;32m    100\u001b[0m \u001b[39mprint\u001b[39m(\u001b[39m'\u001b[39m\u001b[39midx_2_mask\u001b[39m\u001b[39m'\u001b[39m, idx_2_mask\u001b[39m.\u001b[39mshape)\n\u001b[1;32m--> 101\u001b[0m \u001b[39mprint\u001b[39m(tgt_deep_feat_pts[idx_1_mask, idx_2_mask, :]\u001b[39m.\u001b[39mshape)\n\u001b[0;32m    102\u001b[0m \u001b[39mprint\u001b[39m(N_keypts)\n\u001b[0;32m    103\u001b[0m \u001b[39mprint\u001b[39m(C_candidates)\n",
      "\u001b[1;31mIndexError\u001b[0m: shape mismatch: indexing tensors could not be broadcast together with shapes [4], [442368]"
     ]
    }
   ],
   "source": [
    "# begin train \n",
    "model.train()\n",
    "loss_epoch_avg = []\n",
    "for epoch in range(num_epochs):\n",
    "    print(f\"epoch #{epoch}\")\n",
    "    loss_epoch = []\n",
    "    running_loss = 0.0\n",
    "\n",
    "    for n_batch, (src, target, R_gt, t_gt, ) in enumerate(train_loader):\n",
    "        start_time = time.time()\n",
    "        # mini batch\n",
    "        src, target, R_gt, t_gt = src.to(device), target.to(device), R_gt.to(device), t_gt.to(device)\n",
    "        t_init = torch.randn((1, 3))\n",
    "        R_prior = R_gt.clone()\n",
    "        corruption = torch.FloatTensor(batch_size, 3, 3).uniform_(0.9, 1.1).cuda()\n",
    "        R_prior = R_prior*corruption\n",
    "        src_keypts, target_vcp = model(src, target, R_gt, t_init)\n",
    "        # print('src_keypts shape', src_keypts.shape)\n",
    "        # print('target_vcp shape', target_vcp.shape)\n",
    "        # zero gradient \n",
    "        optim.zero_grad()\n",
    "        loss, R_pred, t_pred = deepVCP_loss(src_keypts, target_vcp, R_gt, t_gt, alpha=0.5)\n",
    "\n",
    "\n",
    "        # error metric for rigid body transformation\n",
    "        r_pred = R.from_matrix(R_pred.squeeze(0).cpu().detach().numpy())\n",
    "        r_pred_arr = torch.tensor(r_pred.as_euler('xyz', degrees=True)).reshape(1, 3)\n",
    "        r_gt = R.from_matrix(R_gt.squeeze(0).cpu().detach().numpy())\n",
    "        r_gt_arr = torch.tensor(r_gt.as_euler('xyz', degrees=True)).reshape(1, 3)\n",
    "        pdist = nn.PairwiseDistance(p = 2)\n",
    "        t_pred = t_pred.squeeze(-1)\n",
    "        t_gt = t_gt.squeeze(-1)\n",
    "\n",
    "        print(\"rotation error: \", pdist(r_pred_arr, r_gt_arr).mean())\n",
    "        print(\"translation error: \", pdist(t_pred, t_gt).mean())\n",
    "\n",
    "        # backward pass\n",
    "        loss.backward()\n",
    "        # update parameters \n",
    "        optim.step()\n",
    "\n",
    "        running_loss += loss.item()\n",
    "        loss_epoch += [loss.item()]\n",
    "        print(\"--- %s seconds ---\" % (time.time() - start_time))\n",
    "        if (n_batch + 1) % 5 == 0:\n",
    "            print(\"Epoch: [{}/{}], Batch: {}, Loss: {}\".format(\n",
    "                epoch, num_epochs, n_batch, loss.item()))\n",
    "            running_loss = 0.0\n",
    "\n",
    "    torch.save(model.state_dict(), \"epoch_\" + str(epoch) + \"_model.pt\")\n",
    "    loss_epoch_avg += [sum(loss_epoch) / len(loss_epoch)]\n",
    "    print(\"loss epoch\", loss_epoch)\n",
    "    with open(\"training_loss_\" + str(epoch) + \".txt\", \"wb\") as fp:   #Pickling\n",
    "        pickle.dump(loss_epoch, fp)\n"
   ]
  },
  {
   "cell_type": "code",
   "execution_count": null,
   "metadata": {},
   "outputs": [],
   "source": [
    "x = [torch.randn(1,32,3), torch.randn(1,32,3)]"
   ]
  },
  {
   "cell_type": "code",
   "execution_count": null,
   "metadata": {},
   "outputs": [
    {
     "data": {
      "text/plain": [
       "torch.Size([2, 32, 3])"
      ]
     },
     "execution_count": 6,
     "metadata": {},
     "output_type": "execute_result"
    }
   ],
   "source": [
    "torch.vstack(x).shape"
   ]
  },
  {
   "cell_type": "code",
   "execution_count": null,
   "metadata": {},
   "outputs": [],
   "source": [
    "z = torch.randn(1,64)"
   ]
  },
  {
   "cell_type": "code",
   "execution_count": null,
   "metadata": {},
   "outputs": [
    {
     "data": {
      "text/plain": [
       "torch.Size([1, 6, 64])"
      ]
     },
     "execution_count": 15,
     "metadata": {},
     "output_type": "execute_result"
    }
   ],
   "source": [
    "(z.unsqueeze(1)).repeat(1, 6, 1).shape"
   ]
  },
  {
   "cell_type": "code",
   "execution_count": null,
   "metadata": {},
   "outputs": [
    {
     "data": {
      "text/plain": [
       "torch.Size([2, 3, 3])"
      ]
     },
     "execution_count": 12,
     "metadata": {},
     "output_type": "execute_result"
    }
   ],
   "source": [
    "R_gt.shape"
   ]
  },
  {
   "cell_type": "code",
   "execution_count": null,
   "metadata": {},
   "outputs": [
    {
     "data": {
      "text/plain": [
       "torch.Size([4, 3, 3])"
      ]
     },
     "execution_count": 13,
     "metadata": {},
     "output_type": "execute_result"
    }
   ],
   "source": [
    "R_gt.repeat(2, 1, 1).shape"
   ]
  },
  {
   "cell_type": "code",
   "execution_count": null,
   "metadata": {},
   "outputs": [],
   "source": []
  },
  {
   "cell_type": "code",
   "execution_count": null,
   "metadata": {},
   "outputs": [],
   "source": []
  }
 ],
 "metadata": {
  "kernelspec": {
   "display_name": "Python 3.10.10 ('nsd')",
   "language": "python",
   "name": "python3"
  },
  "language_info": {
   "codemirror_mode": {
    "name": "ipython",
    "version": 3
   },
   "file_extension": ".py",
   "mimetype": "text/x-python",
   "name": "python",
   "nbconvert_exporter": "python",
   "pygments_lexer": "ipython3",
   "version": "3.10.10"
  },
  "orig_nbformat": 4,
  "vscode": {
   "interpreter": {
    "hash": "28ddfe019228c1c2f609477641aa95b52d4df5f6bd621eab70bc33a459c81c5e"
   }
  }
 },
 "nbformat": 4,
 "nbformat_minor": 2
}
